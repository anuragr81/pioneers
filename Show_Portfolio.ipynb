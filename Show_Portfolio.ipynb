{
  "nbformat": 4,
  "nbformat_minor": 0,
  "metadata": {
    "colab": {
      "name": "Show_Portfolio",
      "provenance": [],
      "authorship_tag": "ABX9TyN+3ozC01bsbPfKAoxooN+u"
    },
    "kernelspec": {
      "name": "python3",
      "display_name": "Python 3"
    }
  },
  "cells": [
    {
      "cell_type": "markdown",
      "metadata": {
        "id": "j98YHV3m9rTj"
      },
      "source": [
        "# Portfolio Weights\r\n",
        "\r\n",
        "The sum of weights must add to 1. Instead of trying to add cash to the portfolio, try scaling up the weights."
      ]
    },
    {
      "cell_type": "code",
      "metadata": {
        "id": "ne-wdRmz954B"
      },
      "source": [
        "portfolio_weights =[(\"GOOG\",.3),(\"AAPL\",.3),(\"FLGT\",.2),(\"OIH\",.2)]\r\n",
        "start_date = \"2020-01-1\"\r\n",
        "if abs(sum(x for _,x in portfolio_weights) -1)>1e-7:\r\n",
        "  raise ValueError(\"Portfolio Weights must add to 1\")"
      ],
      "execution_count": 83,
      "outputs": []
    },
    {
      "cell_type": "markdown",
      "metadata": {
        "id": "cocqycLpBSgL"
      },
      "source": [
        "# Data Retrievers"
      ]
    },
    {
      "cell_type": "code",
      "metadata": {
        "id": "XfCmHehxltxo",
        "colab": {
          "base_uri": "https://localhost:8080/",
          "height": 419
        },
        "outputId": "d1c661e0-0810-41fe-8ad9-188c65db9991"
      },
      "source": [
        "import requests\r\n",
        "import logging\r\n",
        "from io import StringIO\r\n",
        "import pandas as pd\r\n",
        "import datetime as dt\r\n",
        "def yahoofin_ts(ticker):\r\n",
        "  url = \"https://query1.finance.yahoo.com/v7/finance/download/\" + ticker+\"?period1=1281181669&period2=1612804069&interval=1d&events=history&includeAdjustedClose=true\"\r\n",
        "  try: \r\n",
        "    r = requests.get(url)\r\n",
        "  except Excepion as e:\r\n",
        "    logging.error(\"Could not get data for ticker:%s\" %ticker)\r\n",
        "  tdf= pd.read_csv(StringIO(r.text))\r\n",
        "  # Assumes Date column is present\r\n",
        "  tdf[\"Date\"] = tdf.Date.apply(lambda x: dt.datetime.strptime(x,\"%Y-%m-%d\").date())\r\n",
        "  return tdf\r\n",
        "\r\n",
        "alldatadfs = []\r\n",
        "for entry,weight in portfolio_weights:\r\n",
        "  datadf = yahoofin_ts(entry).copy()\r\n",
        "  datadf[\"Ticker\"] = entry\r\n",
        "  alldatadfs.append(datadf)\r\n",
        "\r\n",
        "portfolio_tickers_df = pd.concat(alldatadfs)\r\n",
        "portfolio_tickers_df"
      ],
      "execution_count": 52,
      "outputs": [
        {
          "output_type": "execute_result",
          "data": {
            "text/html": [
              "<div>\n",
              "<style scoped>\n",
              "    .dataframe tbody tr th:only-of-type {\n",
              "        vertical-align: middle;\n",
              "    }\n",
              "\n",
              "    .dataframe tbody tr th {\n",
              "        vertical-align: top;\n",
              "    }\n",
              "\n",
              "    .dataframe thead th {\n",
              "        text-align: right;\n",
              "    }\n",
              "</style>\n",
              "<table border=\"1\" class=\"dataframe\">\n",
              "  <thead>\n",
              "    <tr style=\"text-align: right;\">\n",
              "      <th></th>\n",
              "      <th>Date</th>\n",
              "      <th>Open</th>\n",
              "      <th>High</th>\n",
              "      <th>Low</th>\n",
              "      <th>Close</th>\n",
              "      <th>Adj Close</th>\n",
              "      <th>Volume</th>\n",
              "      <th>Ticker</th>\n",
              "    </tr>\n",
              "  </thead>\n",
              "  <tbody>\n",
              "    <tr>\n",
              "      <th>0</th>\n",
              "      <td>2010-08-09</td>\n",
              "      <td>250.187241</td>\n",
              "      <td>251.806168</td>\n",
              "      <td>249.743896</td>\n",
              "      <td>251.731445</td>\n",
              "      <td>251.731445</td>\n",
              "      <td>3758435</td>\n",
              "      <td>GOOG</td>\n",
              "    </tr>\n",
              "    <tr>\n",
              "      <th>1</th>\n",
              "      <td>2010-08-10</td>\n",
              "      <td>250.237045</td>\n",
              "      <td>252.055237</td>\n",
              "      <td>248.354111</td>\n",
              "      <td>250.914505</td>\n",
              "      <td>250.914505</td>\n",
              "      <td>4163548</td>\n",
              "      <td>GOOG</td>\n",
              "    </tr>\n",
              "    <tr>\n",
              "      <th>2</th>\n",
              "      <td>2010-08-11</td>\n",
              "      <td>247.935669</td>\n",
              "      <td>248.070175</td>\n",
              "      <td>244.832306</td>\n",
              "      <td>244.951859</td>\n",
              "      <td>244.951859</td>\n",
              "      <td>4462665</td>\n",
              "      <td>GOOG</td>\n",
              "    </tr>\n",
              "    <tr>\n",
              "      <th>3</th>\n",
              "      <td>2010-08-12</td>\n",
              "      <td>241.066422</td>\n",
              "      <td>246.451233</td>\n",
              "      <td>240.354095</td>\n",
              "      <td>245.086349</td>\n",
              "      <td>245.086349</td>\n",
              "      <td>4425727</td>\n",
              "      <td>GOOG</td>\n",
              "    </tr>\n",
              "    <tr>\n",
              "      <th>4</th>\n",
              "      <td>2010-08-13</td>\n",
              "      <td>243.586975</td>\n",
              "      <td>244.677887</td>\n",
              "      <td>242.097565</td>\n",
              "      <td>242.266922</td>\n",
              "      <td>242.266922</td>\n",
              "      <td>3883903</td>\n",
              "      <td>GOOG</td>\n",
              "    </tr>\n",
              "    <tr>\n",
              "      <th>...</th>\n",
              "      <td>...</td>\n",
              "      <td>...</td>\n",
              "      <td>...</td>\n",
              "      <td>...</td>\n",
              "      <td>...</td>\n",
              "      <td>...</td>\n",
              "      <td>...</td>\n",
              "      <td>...</td>\n",
              "    </tr>\n",
              "    <tr>\n",
              "      <th>2639</th>\n",
              "      <td>2021-02-02</td>\n",
              "      <td>168.860001</td>\n",
              "      <td>171.070007</td>\n",
              "      <td>165.320007</td>\n",
              "      <td>165.580002</td>\n",
              "      <td>165.580002</td>\n",
              "      <td>229000</td>\n",
              "      <td>OIH</td>\n",
              "    </tr>\n",
              "    <tr>\n",
              "      <th>2640</th>\n",
              "      <td>2021-02-03</td>\n",
              "      <td>166.490005</td>\n",
              "      <td>173.860001</td>\n",
              "      <td>166.490005</td>\n",
              "      <td>173.580002</td>\n",
              "      <td>173.580002</td>\n",
              "      <td>394900</td>\n",
              "      <td>OIH</td>\n",
              "    </tr>\n",
              "    <tr>\n",
              "      <th>2641</th>\n",
              "      <td>2021-02-04</td>\n",
              "      <td>175.000000</td>\n",
              "      <td>177.539993</td>\n",
              "      <td>170.649994</td>\n",
              "      <td>177.389999</td>\n",
              "      <td>177.389999</td>\n",
              "      <td>376300</td>\n",
              "      <td>OIH</td>\n",
              "    </tr>\n",
              "    <tr>\n",
              "      <th>2642</th>\n",
              "      <td>2021-02-05</td>\n",
              "      <td>179.699997</td>\n",
              "      <td>181.779999</td>\n",
              "      <td>176.070007</td>\n",
              "      <td>176.809998</td>\n",
              "      <td>176.809998</td>\n",
              "      <td>329200</td>\n",
              "      <td>OIH</td>\n",
              "    </tr>\n",
              "    <tr>\n",
              "      <th>2643</th>\n",
              "      <td>2021-02-08</td>\n",
              "      <td>178.949997</td>\n",
              "      <td>183.500000</td>\n",
              "      <td>178.934998</td>\n",
              "      <td>182.399002</td>\n",
              "      <td>182.399002</td>\n",
              "      <td>220973</td>\n",
              "      <td>OIH</td>\n",
              "    </tr>\n",
              "  </tbody>\n",
              "</table>\n",
              "<p>9029 rows × 8 columns</p>\n",
              "</div>"
            ],
            "text/plain": [
              "            Date        Open        High  ...   Adj Close   Volume  Ticker\n",
              "0     2010-08-09  250.187241  251.806168  ...  251.731445  3758435    GOOG\n",
              "1     2010-08-10  250.237045  252.055237  ...  250.914505  4163548    GOOG\n",
              "2     2010-08-11  247.935669  248.070175  ...  244.951859  4462665    GOOG\n",
              "3     2010-08-12  241.066422  246.451233  ...  245.086349  4425727    GOOG\n",
              "4     2010-08-13  243.586975  244.677887  ...  242.266922  3883903    GOOG\n",
              "...          ...         ...         ...  ...         ...      ...     ...\n",
              "2639  2021-02-02  168.860001  171.070007  ...  165.580002   229000     OIH\n",
              "2640  2021-02-03  166.490005  173.860001  ...  173.580002   394900     OIH\n",
              "2641  2021-02-04  175.000000  177.539993  ...  177.389999   376300     OIH\n",
              "2642  2021-02-05  179.699997  181.779999  ...  176.809998   329200     OIH\n",
              "2643  2021-02-08  178.949997  183.500000  ...  182.399002   220973     OIH\n",
              "\n",
              "[9029 rows x 8 columns]"
            ]
          },
          "metadata": {
            "tags": []
          },
          "execution_count": 52
        }
      ]
    },
    {
      "cell_type": "markdown",
      "metadata": {
        "id": "SpkpdSATCO-h"
      },
      "source": [
        "# Plot the time-series for all portfolio constituents"
      ]
    },
    {
      "cell_type": "code",
      "metadata": {
        "colab": {
          "base_uri": "https://localhost:8080/",
          "height": 265
        },
        "id": "MA42DN2LnsH-",
        "outputId": "446d2554-db33-4af1-e43c-e58c1e8c5f85"
      },
      "source": [
        "import matplotlib.pyplot as plt\r\n",
        "plot_open_prices = lambda x: plt.plot(x.Date,x.Open)\r\n",
        "returns_open = lambda x : (list(x.shift(-1).Date)[0:-1], list((x.shift(-1).Open /x.Open) -1)[0:-1])\r\n",
        "\r\n",
        "def plot_daily_returns_open (x):\r\n",
        "  data = returns_open(x)\r\n",
        "  matplotlib.pyplot.plot (data[0],data[1])\r\n",
        "\r\n",
        "for entry,weight in portfolio_weights:\r\n",
        "  plotdf = portfolio_tickers_df[portfolio_tickers_df.Ticker==entry]\r\n",
        "  plot_daily_returns_open(plotdf)\r\n"
      ],
      "execution_count": 99,
      "outputs": [
        {
          "output_type": "display_data",
          "data": {
            "image/png": "[encoded data removed]",
            "text/plain": [
              "<Figure size 432x288 with 1 Axes>"
            ]
          },
          "metadata": {
            "tags": [],
            "needs_background": "light"
          }
        }
      ]
    },
    {
      "cell_type": "code",
      "metadata": {
        "colab": {
          "base_uri": "https://localhost:8080/",
          "height": 371
        },
        "id": "Wn0NzlProCZ6",
        "outputId": "517cf6d4-9458-41a3-ce2c-bb5079914ca7"
      },
      "source": [
        "from itertools import product\r\n",
        "n = len(portfolio_weights)\r\n",
        "nx=int(math.sqrt(n))\r\n",
        "ny=int(n/nx)+1\r\n",
        "\r\n",
        "fig, axs = plt.subplots(nx, ny)\r\n",
        "i = 0\r\n",
        "for x,y in product(range(0,nx),range(0,ny)):\r\n",
        "  if i <= n:\r\n",
        "    ticker_entry = portfolio_weights[0][0]\r\n",
        "    plotdf = portfolio_tickers_df[portfolio_tickers_df.Ticker==ticker_entry]\r\n",
        "    axs[x,y].plot()\r\n",
        "  i=i+1\r\n",
        "\r\n",
        "#axs[0, 0].plot(x, y)\r\n",
        "#axs[0, 0].set_title('Axis [0, 0]')\r\n",
        "#axs[0, 1].plot(x, y, 'tab:orange')\r\n",
        "#axs[0, 1].set_title('Axis [0, 1]')\r\n",
        "#axs[1, 0].plot(x, -y, 'tab:green')\r\n",
        "#axs[1, 0].set_title('Axis [1, 0]')\r\n",
        "#axs[1, 1].plot(x, -y, 'tab:red')\r\n",
        "#axs[1, 1].set_title('Axis [1, 1]')"
      ],
      "execution_count": 98,
      "outputs": [
        {
          "output_type": "stream",
          "text": [
            "0 0\n",
            "0 1\n",
            "0 2\n",
            "1 0\n",
            "1 1\n",
            "1 2\n"
          ],
          "name": "stdout"
        },
        {
          "output_type": "display_data",
          "data": {
            "image/png": "[encoded data removed]",
            "text/plain": [
              "<Figure size 432x288 with 6 Axes>"
            ]
          },
          "metadata": {
            "tags": [],
            "needs_background": "light"
          }
        }
      ]
    },
    {
      "cell_type": "code",
      "metadata": {
        "colab": {
          "base_uri": "https://localhost:8080/"
        },
        "id": "OdN0z1YaqRHf",
        "outputId": "2689bf17-34f4-4e9e-ca11-2af3ab9b2d88"
      },
      "source": [
        "import math\r\n",
        "n=13\r\n",
        "\r\n"
      ],
      "execution_count": 94,
      "outputs": [
        {
          "output_type": "stream",
          "text": [
            "3x5=15\n"
          ],
          "name": "stdout"
        }
      ]
    },
    {
      "cell_type": "code",
      "metadata": {
        "id": "dOL6PnNpC97q"
      },
      "source": [
        ""
      ],
      "execution_count": null,
      "outputs": []
    }
  ]
}