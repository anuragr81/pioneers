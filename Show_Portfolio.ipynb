{
  "nbformat": 4,
  "nbformat_minor": 0,
  "metadata": {
    "colab": {
      "name": "Show_Portfolio",
      "provenance": [],
      "authorship_tag": "ABX9TyMkF41c1r4sAdL39cN7D/VJ"
    },
    "kernelspec": {
      "name": "python3",
      "display_name": "Python 3"
    }
  },
  "cells": [
    {
      "cell_type": "code",
      "metadata": {
        "id": "mZEoRPFFlrsF",
        "colab": {
          "base_uri": "https://localhost:8080/"
        },
        "outputId": "a721a6f3-617b-4949-ffa5-3da804174ed1"
      },
      "source": [
        "tickers=[\"GOOG\",\"AAPL\",\"FLGT\"]"
      ],
      "execution_count": null,
      "outputs": [
        {
          "output_type": "stream",
          "text": [
            "Started\n"
          ],
          "name": "stdout"
        }
      ]
    },
    {
      "cell_type": "code",
      "metadata": {
        "id": "XfCmHehxltxo"
      },
      "source": [
        "import requests\r\n",
        "import logging\r\n",
        "from io import StringIO\r\n",
        "import pandas as pd\r\n",
        "import datetime as dt\r\n",
        "def yahoofin_ts(ticker):\r\n",
        "  url = \"https://query1.finance.yahoo.com/v7/finance/download/\" + ticker+\"?period1=1281181669&period2=1612804069&interval=1d&events=history&includeAdjustedClose=true\"\r\n",
        "  try: \r\n",
        "    r = requests.get(url)\r\n",
        "  except Excepion as e:\r\n",
        "    logging.error(\"Could not get data for ticker:%s\" %ticker)\r\n",
        "  tdf= pd.read_csv(StringIO(r.text))\r\n",
        "  # Assumes Date column is present\r\n",
        "  tdf[\"Date\"] = tdf.Date.apply(lambda x: dt.datetime.strptime(x,\"%Y-%m-%d\").date())\r\n",
        "  return tdf"
      ],
      "execution_count": 32,
      "outputs": []
    },
    {
      "cell_type": "code",
      "metadata": {
        "colab": {
          "base_uri": "https://localhost:8080/",
          "height": 282
        },
        "id": "MA42DN2LnsH-",
        "outputId": "35f401e7-78d0-4c3a-fc95-2277dca8ce97"
      },
      "source": [
        "import matplotlib\r\n",
        "aapl_ts = yahoofin_ts(\"AAPL\")\r\n",
        "matplotlib.pyplot.plot(aapl_ts.Date,aapl_ts.Open)"
      ],
      "execution_count": 37,
      "outputs": [
        {
          "output_type": "execute_result",
          "data": {
            "text/plain": [
              "[<matplotlib.lines.Line2D at 0x7f57bb1a6160>]"
            ]
          },
          "metadata": {
            "tags": []
          },
          "execution_count": 37
        },
        {
          "output_type": "display_data",
          "data": {
            "image/png": "[encoded data removed]",
            "text/plain": [
              "<Figure size 432x288 with 1 Axes>"
            ]
          },
          "metadata": {
            "tags": [],
            "needs_background": "light"
          }
        }
      ]
    },
    {
      "cell_type": "code",
      "metadata": {
        "id": "Wn0NzlProCZ6"
      },
      "source": [
        "\r\n",
        "\r\n",
        "\r\n"
      ],
      "execution_count": 37,
      "outputs": []
    },
    {
      "cell_type": "code",
      "metadata": {
        "id": "24p14VuIpuv_"
      },
      "source": [
        ""
      ],
      "execution_count": 37,
      "outputs": []
    },
    {
      "cell_type": "code",
      "metadata": {
        "id": "OdN0z1YaqRHf"
      },
      "source": [
        ""
      ],
      "execution_count": null,
      "outputs": []
    }
  ]
}